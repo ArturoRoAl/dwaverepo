{
  "cells": [
    {
      "cell_type": "markdown",
      "metadata": {},
      "source": [
        "<div>\n",
        "<img src=\"https://www.nebrija.com/images/logos/logotipo-universidad-nebrija.jpg\" width=\"200\">\n",
        "</div>\n",
        "\n",
        "**MODELOS DE PROGRAMACION: MODELO ADIABATICO** -\n",
        "Prof: Carmen Pellicer Lostao"
      ]
    },
    {
      "cell_type": "markdown",
      "metadata": {
        "id": "SevNNmx1OIzZ"
      },
      "source": [
        "# Constrained Scheduling"
      ]
    },
    {
      "cell_type": "markdown",
      "metadata": {},
      "source": [
        "## Intro"
      ]
    },
    {
      "cell_type": "markdown",
      "metadata": {
        "id": "xsE_Q-gaHybh"
      },
      "source": [
        "In this Notebook we will formulate an optimization problem with real variables. Programatically we will use the [Constrained Quadratic Model](https://docs.ocean.dwavesys.com/en/latest/concepts/cqm.html) (DQM) class in Ocean tools to formulate it.\n",
        "\n",
        "Then we will use DWave Hybrid solvers to sample the DQM object of our optimization problem. Specifically we will use the [LeapHybridDQMSampler()](https://docs.ocean.dwavesys.com/en/stable/docs_system/reference/samplers.html#id19) and the SAPI to sumbmit the sampling job to the QPU"
      ]
    },
    {
      "cell_type": "markdown",
      "metadata": {},
      "source": [
        "We install DWave Ocean Libraries and setup them."
      ]
    },
    {
      "cell_type": "code",
      "execution_count": 15,
      "metadata": {
        "id": "wHQS98I92qwx"
      },
      "outputs": [],
      "source": [
        "#!pip install dwave-ocean-sdk"
      ]
    },
    {
      "cell_type": "code",
      "execution_count": 16,
      "metadata": {
        "colab": {
          "base_uri": "https://localhost:8080/"
        },
        "id": "-Ev4Yjsc3BvB",
        "outputId": "800108b1-b6b1-4489-96af-255861cc2c14"
      },
      "outputs": [],
      "source": [
        "#!dwave setup"
      ]
    },
    {
      "cell_type": "code",
      "execution_count": 17,
      "metadata": {
        "colab": {
          "base_uri": "https://localhost:8080/"
        },
        "id": "IdQjwouG3eth",
        "outputId": "c272bcca-3a2b-4830-9ed6-2162cd5e2cfc"
      },
      "outputs": [],
      "source": [
        "#!dwave config inspect"
      ]
    },
    {
      "cell_type": "markdown",
      "metadata": {
        "id": "LtsJMXl01N4r"
      },
      "source": [
        "## Discrete Quadratic Models"
      ]
    },
    {
      "cell_type": "markdown",
      "metadata": {
        "id": "e8qGt6pT1J9g"
      },
      "source": [
        "\n",
        "The discrete quadratic model (DQM) is a polynomial over discrete variables, with all terms of degree two or less, where a discrete variable represents some collection of distinct values, such as {red, green, blue, yellow} or {3.2, 67}, which are called the variable’s cases.\n",
        "\n",
        "A discrete quadratic model may be defined as:\n",
        "\n",
        "$H(d) = \\sum_{i=1}^M a_i d_i + \\sum_{i=1}^M \\sum_{j=1}^M b_{i,j} (d_i d_j)+c$\n",
        "\n",
        "where $d_i$ are the discrete variables,\n",
        " and $a_i$ and $b_{i,j}$ are real-valued functions, and $c$ is a constant (offset)."
      ]
    },
    {
      "cell_type": "markdown",
      "metadata": {
        "id": "S2y9jAY93YEm"
      },
      "source": [
        "You can represent any DQM with an equivalent model over binary variables by replacing each discrete variable, $d_i$, with a vector of binary variables using [one-hot encoding](https://en.wikipedia.org/wiki/One-hot), where exactly one binary variable is True and all others are False: $\\sum_{i=1}^N x_{i,a} =1 \\forall i$"
      ]
    },
    {
      "cell_type": "markdown",
      "metadata": {
        "id": "OFUWLNOv22C4"
      },
      "source": [
        "In particular, a discrete quadratic model for $M$ discrete variables,$d_i$, each with $n_i$ cases, is then defined by using a binary variable, $x_{i,u}$, to indicate whether discrete variable $d_i$ is set to case $u$. The objective function can be expressed by the equation:\n",
        "\n",
        "$H(x) = \\sum_{i=1}^M \\sum_{u=1}^{n_i} a_{i,u} x_{i,u} + \\sum_{i=1}^M \\sum_{j=1}^M \\sum_{u=1}^{n_i} \\sum_{v=1}^{n_i} b_{i,j,u.v}x_{i,u}+c$\n",
        "\n",
        "Both representations are equivalent over the feasible space; that is, the solutions that meet the one-hot-encoding constraints. The second representation ascribes energies both to the feasible space (satisfying constraints), and an infeasible space (violating constraints). The second representation is used by the [Disctrete Quadratic Model](https://docs.ocean.dwavesys.com/en/latest/concepts/dqm.html) (DQM) class in Ocean tools"
      ]
    },
    {
      "cell_type": "markdown",
      "metadata": {
        "id": "NMaIDaaH1Nm5"
      },
      "source": [
        "## CSP Employee scheduling"
      ]
    },
    {
      "cell_type": "markdown",
      "metadata": {
        "id": "UJh3AmRj5eCF"
      },
      "source": [
        "Building a schedule for employees can be an extremely complex optimization problem in which managers must balance employee preferences against schedule requirements. In this example, we show how a discrete quadratic model (DQM) can be used to model this problem and how the hybrid solvers available in DWave Leap can optimize over these competing scheduling and preference needs.\n",
        "\n",
        "First we import the libraries needed in the notebook"
      ]
    },
    {
      "cell_type": "code",
      "execution_count": 18,
      "metadata": {
        "id": "iKaJ0vAz2o06"
      },
      "outputs": [],
      "source": [
        "from dimod import DiscreteQuadraticModel\n",
        "from dwave.system import LeapHybridDQMSampler\n",
        "import numpy as np\n",
        "import matplotlib\n",
        "matplotlib.use(\"agg\")\n",
        "import matplotlib.pyplot as plt"
      ]
    },
    {
      "cell_type": "markdown",
      "metadata": {
        "id": "5cVREogI52JS"
      },
      "source": [
        "To make the example more felxible we ask the user to provide the input values of the number of employees $M$ and the number of shifts $N$.\n",
        "\n",
        "Note that we should have at least as many employees as there are shifts."
      ]
    },
    {
      "cell_type": "code",
      "execution_count": 19,
      "metadata": {
        "id": "NiiyRDHp5wCl"
      },
      "outputs": [
        {
          "name": "stdout",
          "output_type": "stream",
          "text": [
            "\n",
            "Scheduling 60 employees over 12 shifts...\n",
            "\n"
          ]
        }
      ],
      "source": [
        "# Collect user input on size of problem\n",
        "response_1 = input(\"\\nEnter number of employees > \")\n",
        "try:\n",
        "    num_employees = int(response_1)\n",
        "except ValueError:\n",
        "    print(\"Must input an integer.\")\n",
        "    num_employees = int(input(\"\\nEnter number of employees > \"))\n",
        "\n",
        "response_2 = input(\"\\nEnter number of shifts > \")\n",
        "try:\n",
        "    num_shifts = int(response_2)\n",
        "except ValueError:\n",
        "    print(\"Must input an integer.\")\n",
        "    num_shifts = int(input(\"\\nEnter number of shifts > \"))\n",
        "\n",
        "if num_employees < num_shifts:\n",
        "    print(\"\\n**Number of employees must be at least number of shifts.**\")\n",
        "\n",
        "    print(\"\\nEnter number of employees:\")\n",
        "    num_employees = int(input())\n",
        "    print(\"\\nEnter number of shifts:\")\n",
        "    num_shifts = int(input())\n",
        "\n",
        "print(\"\\nScheduling\", num_employees, \"employees over\", num_shifts, \"shifts...\\n\")"
      ]
    },
    {
      "cell_type": "markdown",
      "metadata": {
        "id": "Ko9vAyMg6ip4"
      },
      "source": [
        "Another input data are the preferences of each employee for the shifts. In order to make things simpler the program will randomly generate employee preferences for the N shifts from most preferred (0) to least preferred (N-1)."
      ]
    },
    {
      "cell_type": "code",
      "execution_count": 20,
      "metadata": {
        "id": "upLYYQ4M6jHb"
      },
      "outputs": [
        {
          "name": "stdout",
          "output_type": "stream",
          "text": [
            "[[ 4 11 10  6  8  9  7  0  2  5  3  1]\n",
            " [10  0  6  7  1  4  3  9  5 11  2  8]\n",
            " [ 9  8  3  4  6  5  0 11 10  1  2  7]\n",
            " [ 9  5  8  2  6  7 11  1  4  0 10  3]\n",
            " [ 0  6  9  5  2  1 10  7  8  4  3 11]\n",
            " [ 3 11  9  8  5  6  4  2  1  7 10  0]\n",
            " [ 9  6  7  2  1  4  8 10  0  5  3 11]\n",
            " [ 7 11  4  2  3 10  1  8  6  0  5  9]\n",
            " [ 6  3 10  8  1  0  5  4 11  7  2  9]\n",
            " [ 1  8 11  4  3  7  9  2  5 10  6  0]\n",
            " [ 8 11  6 10  4  1  5  0  2  7  3  9]\n",
            " [ 2  7  5  1  4 10  6  0 11  3  9  8]\n",
            " [ 9 11  8  1  3  5  2  4  6  7 10  0]\n",
            " [ 1  3 10  8  6  2  0  9  5  7 11  4]\n",
            " [ 6  4  2  5  9  0  7  8 11  3  1 10]\n",
            " [10  4  0  5  2  3  1  9  8  6  7 11]\n",
            " [ 5  6 10 11  0  2  8  7  1  9  4  3]\n",
            " [ 1 10  7  0  6  3  5  9  8  4  2 11]\n",
            " [ 2  6  3 11 10  1  9  5  8  0  4  7]\n",
            " [ 8  7  1  2  9  5 10  0 11  6  3  4]\n",
            " [ 7  6  8  1  2 11 10  3  9  5  0  4]\n",
            " [11  9  1  8  6  2  5  0  4 10  7  3]\n",
            " [ 6  7  3  4  9 10  2 11  1  5  8  0]\n",
            " [ 4 10  7  6  3  2  0  9  5 11  1  8]\n",
            " [10  4  3  9  1  6  8  2 11  5  0  7]\n",
            " [ 8 11  0  7  9 10  1  4  2  6  3  5]\n",
            " [ 3  7  8  0  5  6  1  4 11 10  9  2]\n",
            " [ 3 10  0  7 11  2  4  5  6  1  8  9]\n",
            " [ 7  6  1  5  0 11  2  9 10  8  4  3]\n",
            " [ 7  6  3  5  0  2  8  1 11 10  4  9]\n",
            " [ 7  6  5  1  4  0  9  8  3 11  2 10]\n",
            " [ 7  3  0  2 10  8  9  6  5 11  1  4]\n",
            " [ 9  3  7  6  8 10  2  4  0  1 11  5]\n",
            " [ 7 10  4 11  5  1  6  8  0  3  2  9]\n",
            " [ 0  2  8  5  3  6  9 11  1  4  7 10]\n",
            " [ 3  7  0  5  8  1  9  6  2 11  4 10]\n",
            " [ 0  3  5  6 10 11  7  4  9  8  1  2]\n",
            " [ 5  7  0  8  1 11  6  3 10  4  9  2]\n",
            " [ 8  6  2  0 11  9  7  3  4  1  5 10]\n",
            " [ 1  3  5  8 10  9  6  7  2 11  0  4]\n",
            " [ 7  3  0  8  6 10  2  4 11  5  9  1]\n",
            " [ 2  9  6 11  5 10  1  8  0  4  3  7]\n",
            " [ 0  5  8  9  4  7  1 11  2 10  3  6]\n",
            " [11  8  2  3  4 10  7  6  9  5  1  0]\n",
            " [ 7  1  3  2  5 11  0  6  4  9  8 10]\n",
            " [ 1  3  7 10  9  4 11  8  0  6  2  5]\n",
            " [ 5  6  3  8  2  4 11  7  0 10  9  1]\n",
            " [10  2  0  3  9  1  5  7 11  4  6  8]\n",
            " [ 6 10  5  9  7  1  3 11  0  4  2  8]\n",
            " [ 9  3  7  2  1  0  4  8 11  5 10  6]\n",
            " [ 7  9  2  0  6  5  1  4  3 10  8 11]\n",
            " [ 0  6  9 11  1 10  2  7  4  8  5  3]\n",
            " [ 6 11  1  2  3  4  9 10  7  8  0  5]\n",
            " [ 2  7  8  9  5 10  6  1 11  3  0  4]\n",
            " [ 6 11 10  4  1  7  8  5  2  0  3  9]\n",
            " [ 9 10  8  4  0  3 11  2  7  5  1  6]\n",
            " [ 5  0  4  8  1  3 11  7  9  6 10  2]\n",
            " [ 1  3 11  2  6  0  8  4  7  5  9 10]\n",
            " [10  0  6  9  5  3  1 11  8  2  4  7]\n",
            " [ 9  3  6  0 10  2  1  5  7  8  4 11]]\n"
          ]
        }
      ],
      "source": [
        "# Generate random array of preferences over employees\n",
        "preferences = np.tile(np.arange(num_shifts), (num_employees, 1))\n",
        "rows = np.indices((num_employees,num_shifts))[0]\n",
        "cols = [np.random.permutation(num_shifts) for _ in range(num_employees)]\n",
        "preferences = preferences[rows, cols]\n",
        "print(preferences)"
      ]
    },
    {
      "cell_type": "markdown",
      "metadata": {
        "id": "r3QQfQ3b7QGd"
      },
      "source": [
        "### Formulate the problem: Building the DQM"
      ]
    },
    {
      "cell_type": "markdown",
      "metadata": {
        "id": "AW-C7l757VWX"
      },
      "source": [
        "The employee scheduling problem consists of two components: a requirement that employees are evenly distributed across all shifts, and an objective to satisfy employees by scheduling them for their preferred shifts.\n",
        "\n",
        "To build the model we construct a Discrete Quadratic Models object [(see DQM class)](https://docs.ocean.dwavesys.com/en/latest/docs_dimod/reference/models.html#discrete-quadratic-models) and add it a set of discrete variables that indicate the shift of each employee.\n",
        "\n",
        "There are $M$ discrete variables that can take up to $N$ different values."
      ]
    },
    {
      "cell_type": "code",
      "execution_count": 21,
      "metadata": {
        "colab": {
          "base_uri": "https://localhost:8080/"
        },
        "id": "bA60FcLUDk1h",
        "outputId": "6480f8e7-33f3-4779-facf-79678d6dbefa"
      },
      "outputs": [
        {
          "data": {
            "text/plain": [
              "Variables(range(0, 60))"
            ]
          },
          "execution_count": 21,
          "metadata": {},
          "output_type": "execute_result"
        }
      ],
      "source": [
        "# Initialize the DQM object\n",
        "dqm = DiscreteQuadraticModel()\n",
        "\n",
        "# Build the DQM starting by adding variables\n",
        "for name in range(num_employees):\n",
        "    dqm.add_variable(num_shifts, label=name)   # labeled variables with num_shifts cases -> creation of num_employees variables\n",
        "dqm.variables"
      ]
    },
    {
      "cell_type": "markdown",
      "metadata": {
        "id": "P4HvBp877Yy3"
      },
      "source": [
        "#### Preferred Shifts"
      ]
    },
    {
      "cell_type": "markdown",
      "metadata": {
        "id": "DkK9nHQp7gTv"
      },
      "source": [
        "Since shift preferences $p_{i,u}$ are ranked from most preferred (smallest value) to least preferred (largest value), the rankings can be used for the biases in the quadratic model. Since the hybrid solvers look for minimum energy solutions, and minimum rank corresponds to most preferred, these naturally align.\n",
        "\n",
        "The objective function of our problem can be formulatrd as:\n",
        "\n",
        "$\\sum_i^M \\sum_u^N p_{i,u}x_{i,u}$"
      ]
    },
    {
      "cell_type": "markdown",
      "metadata": {
        "id": "9z1hiMjd7kxU"
      },
      "source": [
        "#### Even Distribution"
      ]
    },
    {
      "cell_type": "markdown",
      "metadata": {
        "id": "lvqVxvt-7pqq"
      },
      "source": [
        "An even distribution of employees across shifts would have approximately num_employees/num_shifts $M/N$ scheduled employees per shift. To enforce this requirement, both linear and quadratic biases must be adjusted in a specific manner. We can do this using linear and quadratic biases to enforce the constraint in the discrete quadratic model.\n",
        "\n",
        "To determine the linear and quadratic bias adjustments, we must consider the underlying binary variables in our model. For a DQM with $N$ shifts and $M$ employees, each employee has a single variable $d_i$ constructed with $N$ cases or classes. These are implemented as $N$ binary variables $x_{i,u}$ per employee — one for each possible shift.\n",
        "\n",
        "For a specific shift $u$, we require that exactly $M/N$ employees are scheduled. This is equivalent to saying that $M/N$ employee variables are assigned case $u$, or, returning to our binary variables, that $M/N$ of the binary variables corresponding to case $u$ take a value of 1. In other words, the sum of all employee case $u$ binary variables should equal $M/N$. An equality over a summation of binary variables can be converted to a minimization expression by moving from the equality:\n",
        "\n",
        "$\\sum_{i=1}^M x_{i,u} = \\frac{M}{N}  \\ \\ \\ \\ \\\n",
        "\\forall u$"
      ]
    },
    {
      "cell_type": "markdown",
      "metadata": {
        "id": "4727VGW596pY"
      },
      "source": [
        "to a minimization expression:\n",
        "\n",
        "$(\\frac{M}{N} - \\sum_{i=1}^M x_{i,u})^2    \\ \\ \\ \\ \\  \\forall u$"
      ]
    },
    {
      "cell_type": "markdown",
      "metadata": {
        "id": "6Ntkkdj6-nbt"
      },
      "source": [
        "Expanding this expression of binary variables, it becomes:\n",
        "\n",
        "$(\\frac{M}{N})^2 - 2\\frac{M}{N} \\sum_{i=1}^M x_{i,u} + (\\sum_{i=1}^M x_{i,u})^2  \\ \\ \\ \\ \\   \\forall u$\n",
        "\n",
        "$= (\\frac{M}{N})^2 - 2\\frac{M}{N} \\sum_{i=1}^M x_{i,u} + \\sum_{i=1}^M x_{i,u} +2\\sum_{i=1}^M \\sum_{j>i}^M x_{i,u}x_{j,u}  \\ \\ \\ \\ \\   \\forall u$"
      ]
    },
    {
      "cell_type": "markdown",
      "metadata": {
        "id": "IEa0gsevAN3c"
      },
      "source": [
        "Removing the constant and simplifying this expression of binary variables, it becomes:\n",
        "\n",
        "$(1- 2\\frac{M}{N}) \\sum_{i=1}^M x_{i,u} + 2 \\sum_{i=1}^M \\sum_{j>i}^M x_{i,u}x_{j,u}  \\ \\ \\ \\ \\   \\forall u$\n"
      ]
    },
    {
      "cell_type": "markdown",
      "metadata": {
        "id": "tPwY8AxqArFd"
      },
      "source": [
        "This expression give us $N$ terms for $N$ contrains $C_u$ that our DQN must satisfy in orther to fullfil it for each shift ($\\forall u$).\n",
        "\n",
        "The sum of all $N$ constrain terms $C_u$ is:\n",
        "\n",
        "$C_u = \\sum_{u=1}^N (1-2\\frac{M}{N}) \\sum_{i=1}^M x_{i,u} + 2 \\sum_{u=1}^N \\sum_{i=1}^M \\sum_{j>i}^M x_{i,u}x_{j,u}$"
      ]
    },
    {
      "cell_type": "markdown",
      "metadata": {
        "id": "cLUD8iF2W_-f"
      },
      "source": [
        "When this constraint is built into our DQM object, it is added in with a coefficient gamma. This term gamma is known as a Lagrange parameter and can be used to weight this constraint against the competing employee preferences."
      ]
    },
    {
      "cell_type": "markdown",
      "metadata": {
        "id": "JTdLXRDbCPGx"
      },
      "source": [
        "The final function that we need to optimize is the objective function plus the $N$ terms of the $C_u$ restrictions:\n",
        "\n",
        "$H(x)=\\sum_i^M \\sum_u^N p_{i,u}x_{i,u} + \\gamma \\sum_u^N C_u$\n",
        "\n",
        "$=\\sum_i^M \\sum_u^N (p_{i,u}+\\gamma (1-2\\frac{M}{N}))x_{i,u} + 2 \\gamma \\sum_{u=1}^N \\sum_{i=1}^M \\sum_{j>i}^M x_{i,u}x_{j,u}$\n",
        "\n",
        "And comparing with the equation of the DQM we can identify the linear and quadratic terms:\n",
        "\n",
        "$a_i=p_{i,u}- \\gamma (2\\frac{M}{N}-1)$\n",
        "\n",
        "$b_{i,j}=2* \\gamma$"
      ]
    },
    {
      "cell_type": "markdown",
      "metadata": {
        "id": "ptf11eP6SzcK"
      },
      "source": [
        "Now we add the linear and the quadratic terms to the DQM object.\n",
        "\n",
        "To do that more efficiently in the for loops we re-arrange the summations in the minimization expression as following:\n",
        "\n",
        "\n",
        "$=\\sum_u^N (\\sum_i^M (p_{i,u}-\\gamma (2\\frac{M}{N}-1))x_{i,u} + 2 \\gamma \\sum_{j>i}^M x_{i,u}x_{j,u}))$\n",
        "\n",
        "and we select the value of the Lagrange parameter $\\gamma$ to be the number of employess $M$. This term gamma is known as a Lagrange parameter and can be used to weight this constraint against the competing employee preferences. You may wish to adjust this parameter depending on your problem requirements and size. The value set here in this program was chosen to empirically work well as a starting point for problems of a wide-variety of sizes."
      ]
    },
    {
      "cell_type": "code",
      "execution_count": 22,
      "metadata": {
        "id": "6iJQTU9UTWeM"
      },
      "outputs": [],
      "source": [
        "# Distribute employees equally across shifts according to preferences\n",
        "num_per_shift = int(num_employees/num_shifts)\n",
        "gamma = num_employees\n",
        "\n",
        "for u in range(num_shifts):\n",
        "    for i in range(num_employees):\n",
        "        dqm.set_linear_case(i, u, preferences[i, u] - gamma*(2*num_per_shift-1))\n",
        "        for j in range(i+1, num_employees):\n",
        "            dqm.set_quadratic_case(i, u, j, u, 2*gamma)"
      ]
    },
    {
      "cell_type": "markdown",
      "metadata": {
        "id": "h0ZQlKapTb6s"
      },
      "source": [
        "### Solve the problem in a QPU with Leap Hybrid Solvers"
      ]
    },
    {
      "cell_type": "markdown",
      "metadata": {
        "id": "miP1FmzuWZOi"
      },
      "source": [
        "To sample a DQM we use a DWave Hybrid solver, the [LeapHybridDQMSampler()](https://docs.ocean.dwavesys.com/en/stable/docs_system/reference/samplers.html#id19) and use the SAPI to sumbmit the sampling job to the QPU"
      ]
    },
    {
      "cell_type": "code",
      "execution_count": 23,
      "metadata": {
        "id": "mo8b8UCUYfd2"
      },
      "outputs": [],
      "source": [
        "# Initialize the DQM solver\n",
        "sampler = LeapHybridDQMSampler()\n",
        "\n",
        "# Solve the problem using the DQM solver\n",
        "sampleset = sampler.sample_dqm(dqm, label='Example - Employee Scheduling')"
      ]
    },
    {
      "cell_type": "markdown",
      "metadata": {
        "id": "gV-sRyqEYrDp"
      },
      "source": [
        "We print the sampling results"
      ]
    },
    {
      "cell_type": "code",
      "execution_count": 24,
      "metadata": {
        "id": "o0NhcRRUY1yZ"
      },
      "outputs": [
        {
          "name": "stdout",
          "output_type": "stream",
          "text": [
            "\n",
            "Schedule first sample: "
          ]
        },
        {
          "name": "stdout",
          "output_type": "stream",
          "text": [
            "    0  1  2  3  4  5  6  7  8  9 10 11 12 13 14 15 16 ... 59   energy num_oc.\n",
            "0   4 10  9 11  3  0  6 10  1  0 10  7  5  0  1  7  4 ...  3 -17849.0       1\n",
            "1   9  3  2 11  3  0  1  4  6  0 10  7  4  0  1  8  9 ...  3 -17806.0       1\n",
            "5   4  5  9 11  3  0  6  4  0  0 10  7 10  0  5  8  9 ...  3 -17791.0       1\n",
            "6   4  5  9 11  3  0  6  4  0  0 10  7 10  0  5  8  9 ...  3 -17791.0       1\n",
            "7   4  2 10  1  7  6  6  6  2  0  7  9  5 11  9  5  8 ...  3 -17789.0       1\n",
            "2   8 10 10  7  9  1  9 10  1  0  6  7  5  3  1 11  4 ...  9 -17787.0       1\n",
            "8  11  4  8  9  4  0  6  3 10 11  4  2  3  8  9  6 11 ... 10 -17787.0       1\n",
            "9   7  1  6  9  1  7 10  9  4  5  9  5  4  6  0  2  1 ...  7 -17782.0       1\n",
            "10  8 10 10  7  9  1  9 10  1 10  6  5  5  3  1  7  4 ...  6 -17781.0       1\n",
            "11  8  5  3  7 10  6  3  9  0 10  8  6  6  5 11  3 11 ...  6 -17781.0       1\n",
            "12  7  1 11  4  5  4  9  3  6 11  9  7  2  4 10  8  0 ...  4 -17779.0       1\n",
            "13  3  5  1  3  0  5  8  8 11  7  0  4 11  9  9  0 11 ...  1 -17777.0       1\n",
            "14  0 10  1  7  8  9  3  3  4  8  5  5 11  5  9  6  4 ...  6 -17776.0       1\n",
            "15  0  7 10  8  4  7  6  0  5  0  8  9 11  5  2  6 10 ... 10 -17775.0       1\n",
            "16  0  1  6  3  0  9  2  3 10 11 10  0  8  7  9  3  5 ...  5 -17773.0       1\n",
            "17  7  8  3  7 10  8  4  9 11  8  6  9  2  0  5  4  4 ...  7 -17773.0       1\n",
            "18  0  5  9  4  0  4  0  7  7  1  6  7  8  6  7  1  7 ...  1 -17767.0       1\n",
            "19  7  5  5  7  6 11  4  2  5  3  2  3  1  4  7  8 11 ...  6 -17764.0       1\n",
            "20  3  6  9 11  0  0  5  2  5  5  9  7  1  5  0  2  8 ...  3 -17762.0       1\n",
            "21 11  8  1  6  3  7 10  6  1 11  2  4  3  3 10  1  0 ...  3 -17762.0       1\n",
            "22 11  1  5  7 10  4 10  0  4  8  7  7  8  5  3  6  7 ...  2 -17761.0       1\n",
            "23  4  1  6  9  2  3  0  6  8  4 10  1 11  6  2  6 10 ...  8 -17758.0       1\n",
            "24  4  1  6  9  2  3  0  6  8  4 10  1 11  6  2  6 10 ...  8 -17758.0       1\n",
            "25  8  4 11  0  9  3  4  7  5  0 10  1  9 11  4  2 11 ...  3 -17750.0       1\n",
            "26  8  4 11  0  9  3  4  7  5  0 10  1  9 11  4  2 11 ...  3 -17750.0       1\n",
            "3   3  8  9  5  6  3  5 10  8  0  7  8 11  6  3  4 11 ...  3 -17744.0       1\n",
            "27  7  5  7  0 10  6  8  9 11  2  4  5 11  1  3  5 10 ...  3 -17744.0       1\n",
            "28  1  4  4  9  7  5  3  6  9 10 10  2  9  1  1  9 11 ...  0 -17744.0       1\n",
            "29  0 10  4  8  7  6  3  9  1  9  7  3 10  6  3  7 11 ...  5 -17741.0       1\n",
            "30  0 10  4  8  7  6  3  9  1  9  7  3 10  6  3  7 11 ...  5 -17741.0       1\n",
            "31  0  5  3 10  0 11  3 10  6  9 11  2  9  1  0  2  5 ... 10 -17739.0       1\n",
            "32  6  1  7 11  0 11  2  8  2  7  1  4  3  1  3  9  4 ...  9 -17733.0       1\n",
            "33  4  5  2  0  7  5  8  8 10  6  3  1  9  0  2  5  3 ... 10 -17732.0       1\n",
            "34  4  6  0  4  0  4  5  9  7  8  6 10  9  6  2  1  0 ...  3 -17729.0       1\n",
            "35  5  3 10  1  7  9  8 11  3 11  5  0  9  3  8  6 11 ... 11 -17726.0       1\n",
            "36  5  3 10  1  7  9  8 11  3 11  5  0  9  3  8  6 11 ... 11 -17726.0       1\n",
            "37  9  5  0  0  9  0  2 11  1  7  5 11  1  4  1  7  3 ...  1 -17724.0       1\n",
            "38  1  3 11  3  8  8  8  9  4  0  2  3  6  2 10  5 10 ... 10 -17720.0       1\n",
            "39  0  6  3  9  6  0  7  3 10  7  3  2  8  3  5  9  9 ...  2 -17720.0       1\n",
            "40  0  8  3  6 10  1  4  1  7  0  8  9  7 10  2  6  5 ... 11 -17717.0       1\n",
            "41  5  1  6  3  2  8  5  6 11  9  7  0  6  4  4  4 10 ...  9 -17714.0       1\n",
            "42  3  1  6  2  3 10  4  0  9  7  7  2 11 11 10  7  5 ... 10 -17712.0       1\n",
            "43  0  7  7  2  9  5  9  9 11  4  8 10  0  3  7  6  4 ...  8 -17710.0       1\n",
            "44  7  2  9  1 11 11  9  0  8  8  4 11  8  7  7  0 10 ...  0 -17710.0       1\n",
            "45 10  2  4  9 10  7  3  9  5  2  0  7  8  5  8  3  2 ...  8 -17707.0       1\n",
            "46 10  2  4  9 10  7  3  9  5  2  0  7  8  5  8  3  2 ...  8 -17707.0       1\n",
            "47 10  6  9  6  0 11  5  7  7  8  7  9 10  1  3  6  2 ...  8 -17704.0       1\n",
            "48  8  0  7  0  4  4 11 10 10  3  2  3  4  5  2  2  3 ...  0 -17703.0       1\n",
            "49 11  9 10  9  8  9  1  7 11  4  2  3  6  6  8  2  5 ...  1 -17703.0       1\n",
            "50  8  0  7  0  4  4 11 10 10  3  2  3  4  5  2  2  3 ...  0 -17703.0       1\n",
            "51 11  9 10  9  8  9  1  7 11  4  2  3  6  6  8  2  5 ...  1 -17703.0       1\n",
            "52  8 10  6 11  5  2  1  7 10  4  4  9  4  5 10 11 10 ... 11 -17700.0       1\n",
            "53  4  8  9  0  7  2  6  8  2 10  5  3  9  0  7  7  3 ...  5 -17699.0       1\n",
            "54  0  3 10  4  8  8  3  6  1  6  0  7 11  8 10  2  2 ...  3 -17699.0       1\n",
            "55  0  3 10  4  8  8  3  6  1  6  0  7 11  8 10  2  2 ...  3 -17699.0       1\n",
            "56  5 11  1  8 11  9  5 10  5  6 11  3  1  4  0  8  3 ...  9 -17698.0       1\n",
            "57  7 11  7  8  9  4  6  2  1  7  9  0 11  9 11  5  0 ...  6 -17697.0       1\n",
            "58  2  9  7  5  1  4 10 10 10 11 11  5  8  9  0  3  8 ...  0 -17694.0       1\n",
            "59  6  4 11  0 10  5  2  4  9  8  7  8  0  6  8  2  9 ...  0 -17692.0       1\n",
            "60  7  5  7  3  7  6  0  9  1  2  4  5 11  1 10  9  7 ...  4 -17689.0       1\n",
            "61  7  8  9  2  6  3 11 10  8  6  4  8 11  5  3  9 11 ...  3 -17688.0       1\n",
            "62  0  3  0  3 10 11  7  3  0  9  8  4  7  3  4  2  6 ... 11 -17685.0       1\n",
            "63  5  0  2  7 10  3  4 11  2  6  8  3  1 11 11 10 11 ...  2 -17681.0       1\n",
            "64  9  3  2  5  4  7  1  1  6  2  2 11  4  8  1  8  9 ...  9 -17672.0       1\n",
            "65  3  3  5  5  2  3  5  5 10  0  7  8  8  6  6  4 10 ...  6 -17667.0       1\n",
            "66  7 11  4  0  6  5  7  8  2  9  0  5  4  3 10  1  9 ...  7 -17663.0       1\n",
            "67  7 11  4  0  6  5  7  8  2  9  0  5  4  3 10  1  9 ...  7 -17663.0       1\n",
            "68  4  1  8  7  6  8 10 11  9  0  3  0  3  4  7 10 10 ... 10 -17653.0       1\n",
            "69  5  8  0 10 11  1  8  3  5  0  1  7  8  4  0 11  7 ...  9 -17647.0       1\n",
            "4  10  6  9  6  0 11  5  7  7  8  7  9 10  1  3  8  2 ...  9 -16992.0       1\n",
            "['INTEGER', 70 rows, 70 samples, 60 variables]\n"
          ]
        }
      ],
      "source": [
        "#get all solutions\n",
        "print(\"\\nSchedule first sample:\", sampleset)"
      ]
    },
    {
      "cell_type": "code",
      "execution_count": 25,
      "metadata": {
        "id": "Ls2xGJCvYwrM"
      },
      "outputs": [
        {
          "name": "stdout",
          "output_type": "stream",
          "text": [
            "\n",
            "Schedule first sample: {0: 4, 1: 10, 2: 9, 3: 11, 4: 3, 5: 0, 6: 6, 7: 10, 8: 1, 9: 0, 10: 10, 11: 7, 12: 5, 13: 0, 14: 1, 15: 7, 16: 4, 17: 5, 18: 0, 19: 3, 20: 7, 21: 7, 22: 11, 23: 5, 24: 4, 25: 11, 26: 1, 27: 2, 28: 2, 29: 4, 30: 10, 31: 9, 32: 6, 33: 8, 34: 8, 35: 2, 36: 6, 37: 4, 38: 2, 39: 0, 40: 9, 41: 8, 42: 8, 43: 9, 44: 6, 45: 1, 46: 11, 47: 2, 48: 5, 49: 3, 50: 8, 51: 6, 52: 10, 53: 3, 54: 9, 55: 7, 56: 11, 57: 5, 58: 1, 59: 3}\n",
            "\n",
            "Schedule score: -17849.0\n"
          ]
        }
      ],
      "source": [
        "# Get the first solution, and print it\n",
        "sample = sampleset.first.sample\n",
        "energy = sampleset.first.energy\n",
        "print(\"\\nSchedule first sample:\", sample)\n",
        "print(\"\\nSchedule score:\", energy)"
      ]
    },
    {
      "cell_type": "markdown",
      "metadata": {
        "id": "vDK1HVUQaj9O"
      },
      "source": [
        "### Final results"
      ]
    },
    {
      "cell_type": "markdown",
      "metadata": {
        "id": "h8JApDNnZJ-e"
      },
      "source": [
        "Once we have the results, we build two images to ilustrate the distibution of the employees in the shifts:\n",
        "\n",
        "- First, `employee_schedule.png` illustrates the employee preference matrix alongside the schedule built.\n",
        "- Second, `schedule_statistics.png` shows how many employees are scheduled for each shift, alongside a bar chart showing the employees' average preferences for the shifts for which they have been scheduled.\n",
        "\n",
        "At the end of the program's run, two statistics are printed to the command-line:\n",
        "\n",
        "- Schedule score provides the energy value of the best solution found.\n",
        "- Average happiness is the average of the employee preference values for the shifts that they are scheduled.\n",
        "\n",
        "A smaller average happiness score is better, and a score of 0.0 is a perfect score - everyone received their first choice shift."
      ]
    },
    {
      "cell_type": "code",
      "execution_count": 26,
      "metadata": {
        "colab": {
          "base_uri": "https://localhost:8080/"
        },
        "id": "QEpcx3VR2kHw",
        "outputId": "9ebec33e-0f34-4043-9e97-52e7d5cfe87c"
      },
      "outputs": [
        {
          "name": "stdout",
          "output_type": "stream",
          "text": [
            "\n",
            "Average happiness:\t 2.5166666666666666\n"
          ]
        }
      ],
      "source": [
        "# Build schedule\n",
        "schedule = np.ones((num_employees, num_shifts))*num_shifts\n",
        "prefs = [0]*num_shifts\n",
        "shifts = [0]*num_shifts\n",
        "for key, val in sample.items():\n",
        "    schedule[key,val]=preferences[key,val]\n",
        "    prefs[preferences[key,val]] += 1\n",
        "    shifts[val] += 1\n",
        "\n",
        "# Show heatmap of preferences\n",
        "cmap = plt.get_cmap('seismic')\n",
        "cmaplist = [cmap(i) for i in range(cmap.N)]\n",
        "cmaplist[-1] = (1.0,1.0,1.0,1.0)\n",
        "cmap = cmap.from_list('Custom cmap', cmaplist, cmap.N)\n",
        "\n",
        "fig, (ax1, ax2) = plt.subplots(1, 2)\n",
        "ax1.imshow(preferences, cmap='seismic', interpolation='nearest', vmin=0, vmax=num_shifts, aspect='auto')\n",
        "ax1.xlabel = 'Shifts'\n",
        "ax1.ylabel = 'Employees'\n",
        "ax1.set_title(\"Employee Shift Preferences\", color='Black', fontstyle='italic')\n",
        "\n",
        "# Show heatmap of schedule\n",
        "cax = ax2.imshow(schedule, cmap=cmap, interpolation='nearest', aspect='auto', vmin=0)\n",
        "cbar = fig.colorbar(cax, ticks=[0, num_shifts])\n",
        "cbar.set_ticklabels(['Best', 'Worst'])\n",
        "ax2.xlabel = 'Shifts'\n",
        "ax2.set_title(\"Employee Shift Schedule\", color='Black', fontstyle='italic')\n",
        "plt.savefig(\"employee_schedule.png\")\n",
        "\n",
        "# Compute/display schedule statistics\n",
        "plt.clf()\n",
        "plt.subplot(1, 2, 1)\n",
        "plt.bar(np.arange(num_shifts), shifts)\n",
        "plt.xlabel(\"Shift\")\n",
        "plt.ylabel(\"Number Scheduled\")\n",
        "plt.title(\"Employees Scheduled Per Shift\")\n",
        "\n",
        "mean_happiness = sum([i*prefs[i] for i in range(num_shifts)])/num_employees\n",
        "print(\"\\nAverage happiness:\\t\", mean_happiness)\n",
        "\n",
        "plt.subplot(1, 2, 2)\n",
        "plt.bar(np.arange(num_shifts), prefs)\n",
        "plt.xlabel(\"Preference Rank\")\n",
        "plt.title(\"Average Preference per Shift\")\n",
        "plt.savefig(\"schedule_statistics.png\")"
      ]
    }
  ],
  "metadata": {
    "colab": {
      "provenance": [],
      "toc_visible": true
    },
    "kernelspec": {
      "display_name": "Python 3",
      "name": "python3"
    },
    "language_info": {
      "codemirror_mode": {
        "name": "ipython",
        "version": 3
      },
      "file_extension": ".py",
      "mimetype": "text/x-python",
      "name": "python",
      "nbconvert_exporter": "python",
      "pygments_lexer": "ipython3",
      "version": "3.10.8"
    }
  },
  "nbformat": 4,
  "nbformat_minor": 0
}
