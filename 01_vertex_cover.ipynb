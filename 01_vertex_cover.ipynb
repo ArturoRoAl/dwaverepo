{
  "cells": [
    {
      "cell_type": "markdown",
      "metadata": {},
      "source": [
        "<div>\n",
        "<img src=\"https://www.nebrija.com/images/logos/logotipo-universidad-nebrija.jpg\" width=\"200\">\n",
        "</div>\n",
        "\n",
        "**MODELOS DE PROGRAMACION: MODELO ADIABATICO** -\n",
        "Prof: Carmen Pellicer Lostao"
      ]
    },
    {
      "cell_type": "markdown",
      "metadata": {
        "id": "lI0lddnqHsI-"
      },
      "source": [
        "# FIRST OCEAN EXAMPLE: VERTEX COVER"
      ]
    },
    {
      "cell_type": "markdown",
      "metadata": {
        "id": "-MGUX7ylRPCK"
      },
      "source": [
        "Many different real-world problems can be formulated as instances of classified graph problems. Some of these are hard and the best currently known algorithms for solution may not scale well. Quantum computing might provide better solutions. In this example, vertex cover is a hard problem that can be solved on D-Wave systems.\n",
        "\n",
        "Let’s solve a graph problem in Dwave. It is interesting because Dwave has libraries to formulate graph problems automatically, it formulates the problem as a QM automatically for us.\n",
        "\n",
        "In particular we will solve the **Minimum Vertex Cover** problem, which can be formulated as a BQM and can be solved in DWAVE QPU with the Quantum **DWaveSampler()**\n",
        "\n",
        "We can import `dwave` libraries though it is not needed if they are also imported in our virtual environment"
      ]
    },
    {
      "cell_type": "code",
      "execution_count": 1,
      "metadata": {
        "id": "kvqafHh5HsJB"
      },
      "outputs": [],
      "source": [
        "import dwave"
      ]
    },
    {
      "cell_type": "code",
      "execution_count": 2,
      "metadata": {
        "id": "kiy_o4ypTHDh"
      },
      "outputs": [
        {
          "data": {
            "text/plain": [
              "1700668861.3141637"
            ]
          },
          "execution_count": 2,
          "metadata": {},
          "output_type": "execute_result"
        }
      ],
      "source": [
        "#import time libs to compare time measurements\n",
        "import time\n",
        "time.time()   #time in secs since the epoch (the point where the time starts on all platforms-> January 1, 1970, 00:00:00 UTC (Universal Time Coordinated))"
      ]
    },
    {
      "cell_type": "markdown",
      "metadata": {
        "id": "lckehWUYHsJD"
      },
      "source": [
        "## Vertex Cover\n",
        "\n",
        "Formally, a [vertex cover](https://en.wikipedia.org/wiki/Vertex_cover) V′ of an undirected graph G=(V,E) is a subset of V such that u,v∈E ⇒ u∈V′ or v∈V′, that is to say it is a set of vertices V′ where every edge has at least one endpoint in the vertex cover V′. Such a set is said to cover the edges of V. The upper figure shows two examples of vertex covers, with some vertex cover V′ marked in red.\n",
        "\n",
        "A minimum vertex cover is a vertex cover of smallest possible size. The vertex cover number T is the size of a minimum vertex cover, i.e. T=|V′|.\n",
        "\n",
        "Possible applications of this problem:\n",
        "\n",
        "*   In Telecomm networks for traffic monitoring: placing limited numbers of traffic-monitoring equipment on routers in a telecommunication network.\n",
        "*   In Public Transport networks for traffic monitoring: placing cameras at crossroads to monitor total traffic with minimum investment.\n",
        "*   In Computer Network Security or Social Networks: develop strategies to  design optimal strategies for protecting the network against virus or fake news attacks in real-time protecting some strategic nodes in the network."
      ]
    },
    {
      "cell_type": "markdown",
      "metadata": {
        "id": "vBtQPd7STbph"
      },
      "source": [
        "### Solving on a D-Wave System"
      ]
    },
    {
      "cell_type": "markdown",
      "metadata": {
        "id": "E74Y2yIcTALZ"
      },
      "source": [
        "The purpose of this example is to help a new user to submit a problem to a D-Wave system using Ocean tools with little configuration or coding.\n",
        "\n",
        "The Ocean tool `dnx.min_vertex_cover()` internally builds a BQM with lowest values (“ground states”) that correspond to a minimum vertex cover and uses our selected sampler to solve it.\n",
        "\n",
        "We user two samplers in this tool: \n",
        "\n",
        "- the `DWaveSampler()` to find the solution in a D-Wave system (QPU)\n",
        "- a classical somlber `ExactSolver()` to find the solution in the local CPU.\n",
        "\n",
        "and compare this methods to solve the problem."
      ]
    },
    {
      "cell_type": "markdown",
      "metadata": {},
      "source": [
        "When we use a sampler from Ocean software’s dwave-system to solve on a D-Wave system, in addition to `DWaveSampler()`, we must use `EmbeddingComposite()`, which maps unstructured problems to the graph structure of the selected sampler, a process known as **minor-embedding**: our problem graph must be mapped to the QPU’s numerically indexed qubits."
      ]
    },
    {
      "cell_type": "markdown",
      "metadata": {},
      "source": [
        "In this problem we compare execution in CPU and QPU measuring execution time and memory requiered to find a solution.\n",
        "\n",
        "We also monitor our QPU expending in Leap Dashboard (Direct QPU Total)"
      ]
    },
    {
      "cell_type": "code",
      "execution_count": 3,
      "metadata": {
        "id": "TJ9SdyGvHsJE",
        "outputId": "29e373b2-25b1-48d3-b962-bcf96086ccc4"
      },
      "outputs": [
        {
          "data": {
            "text/plain": [
              "None"
            ]
          },
          "metadata": {},
          "output_type": "display_data"
        },
        {
          "name": "stdout",
          "output_type": "stream",
          "text": [
            "[0]\n",
            "Qsolver time= 4.491542100906372\n",
            "[0]\n",
            "Exactsolver time= 0.0076792240142822266\n"
          ]
        },
        {
          "data": {
            "image/png": "[encoded data removed]",
            "text/plain": [
              "<Figure size 640x480 with 1 Axes>"
            ]
          },
          "metadata": {},
          "output_type": "display_data"
        }
      ],
      "source": [
        "# Importación de Librerias\n",
        "import networkx as nx\n",
        "import dwave_networkx as dnx\n",
        "from dwave.system.samplers import DWaveSampler\n",
        "from dwave.system.composites import EmbeddingComposite\n",
        "from dimod.reference.samplers import ExactSolver\n",
        "\n",
        "# Creación del Grafo de 5 nodos  -> incrementar a 100 y ver que pasa\n",
        "s5 = nx.star_graph(5)\n",
        "display(nx.draw(s5,with_labels=True))\n",
        "\n",
        "# Resolución sobre qpu\n",
        "t_init=time.time()\n",
        "sampler = EmbeddingComposite(DWaveSampler())\n",
        "print(dnx.min_vertex_cover(s5, sampler))\n",
        "print('Qsolver time=',time.time()-t_init)\n",
        "\n",
        "# Resolución sobre un Computador Clásico\n",
        "t_init=time.time()\n",
        "sampler = ExactSolver()\n",
        "print(dnx.min_vertex_cover(s5, sampler))\n",
        "print('Exactsolver time=',time.time()-t_init)\n"
      ]
    },
    {
      "cell_type": "markdown",
      "metadata": {
        "id": "I2EJOyIjHsJF"
      },
      "source": [
        "## Additional exercices\n",
        "\n",
        "Check NetworkX libaries and try other [graph generators](https://networkx.org/documentation/stable/reference/generators.html), such as:\n",
        "\n",
        "- the `nx.wheel_graph()` with a 5-node wheel graph\n",
        "- the `nx.circular_ladder_graph()` with a 5-node ladder graph\n",
        "- the `nx.complete_graph()` with a fully connected graph (clique)\n",
        "\n",
        "Find the min vertex cover for these graphs with the exact solver and dwave QPU solver\n",
        "\n",
        "Consider measuring CPU and QPU times and increasing the number of nodes\n",
        "\n",
        "\n"
      ]
    },
    {
      "cell_type": "code",
      "execution_count": null,
      "metadata": {
        "id": "8OzzUUuRHsJH",
        "outputId": "f8b897b7-b9db-43c4-8502-8a9d934ee961"
      },
      "outputs": [],
      "source": []
    },
    {
      "cell_type": "markdown",
      "metadata": {},
      "source": [
        "Build an arbitrary Graph with NetworkX yand find the **Minimum Vertex Cover**"
      ]
    },
    {
      "cell_type": "code",
      "execution_count": null,
      "metadata": {
        "id": "tzkop6CHHsJH"
      },
      "outputs": [],
      "source": []
    }
  ],
  "metadata": {
    "colab": {
      "provenance": []
    },
    "kernelspec": {
      "display_name": "Python 3",
      "language": "python",
      "name": "python3"
    },
    "language_info": {
      "codemirror_mode": {
        "name": "ipython",
        "version": 3
      },
      "file_extension": ".py",
      "mimetype": "text/x-python",
      "name": "python",
      "nbconvert_exporter": "python",
      "pygments_lexer": "ipython3",
      "version": "3.10.8"
    }
  },
  "nbformat": 4,
  "nbformat_minor": 0
}
